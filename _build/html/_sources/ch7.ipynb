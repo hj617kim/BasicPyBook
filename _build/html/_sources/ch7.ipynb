{
 "cells": [
  {
   "cell_type": "markdown",
   "id": "1344e97b-aa3f-4042-af2a-f2b9715d2ca2",
   "metadata": {},
   "source": [
    "# 조건문"
   ]
  },
  {
   "cell_type": "markdown",
   "id": "3f815a09-4df6-461c-a484-bbf7196ee314",
   "metadata": {},
   "source": [
    "## `if` 조건문"
   ]
  },
  {
   "cell_type": "markdown",
   "id": "df39e1fc-cae1-4b78-b279-7b1d5648193f",
   "metadata": {},
   "source": [
    "조건문<font size=\"2\">conditional statement</font>은 특정 조건의 성립여부에 따라 다른 일을 하게 만드는 명령문이다. `if` 조건문을 사용하면 특정 조건이 참일 때만 어떤 코드가 실행되게 할 수 있다.\n",
    "\n",
    "```python\n",
    "if 조건 :\n",
    "    코드\n",
    "```\n",
    "\n",
    "`if` 키워드로 시작하며 그 뒤에 조건과 콜론(`:`)을 쓰고, 아래로 내려와서 들여쓰기<font size=\"2\">indentation</font>를 한 다음 조건이 참일 때 실행할 코드를 작성한다. "
   ]
  },
  {
   "cell_type": "markdown",
   "id": "55d41225-d409-4dfe-9eaa-e1ee245a5388",
   "metadata": {},
   "source": [
    "예를 들어, `x`가 0보다 작다면 `x는 음수다`를 출력하는 코드를 작성해보자.   \n",
    "\n",
    "```python\n",
    "if x < 0 :\n",
    "    print('x는 음수다')\n",
    "```\n",
    "\n",
    "위 조건문이 실행되는 순간 변수 `x`가 가리키는 값이 0보다 작으면 `x는 음수다`를 출력하고, 그렇지 않으면 들여쓰기한 코드는 건너뛰고 다음 명령문으로 넘어간다. "
   ]
  },
  {
   "cell_type": "code",
   "execution_count": 1,
   "id": "7624d146-f55b-499b-944d-1dc69ffd4a33",
   "metadata": {},
   "outputs": [
    {
     "name": "stdout",
     "output_type": "stream",
     "text": [
      "x는 음수다\n",
      "여기!\n"
     ]
    }
   ],
   "source": [
    "x = -1\n",
    "\n",
    "if x < 0 :\n",
    "    print('x는 음수다')\n",
    "\n",
    "print('여기!')"
   ]
  },
  {
   "cell_type": "code",
   "execution_count": 2,
   "id": "5698b379-ddc9-4ffa-a14f-705aa88f8755",
   "metadata": {},
   "outputs": [
    {
     "name": "stdout",
     "output_type": "stream",
     "text": [
      "여기!\n"
     ]
    }
   ],
   "source": [
    "x = 1\n",
    "\n",
    "if x < 0 :\n",
    "    print('x는 음수다')\n",
    "\n",
    "print('여기!')"
   ]
  },
  {
   "cell_type": "markdown",
   "id": "fba69993-4a07-4936-840d-6fd4fdb8191a",
   "metadata": {},
   "source": [
    ":::{admonition} 주의    \n",
    ":class: caution  \n",
    "`if` 조건문 뒤에는 반드시 콜론을 사용해야 하고, 조건이 참일 때 실행할 코드는 들여쓰기해야 한다. 그렇지 않으면 문법 오류(`SyntaxError`)가 발생한다. 이때 들여쓰기는 공백 4칸을 권장한다. \n",
    ":::\n"
   ]
  },
  {
   "cell_type": "markdown",
   "id": "c4d24690-853f-4269-9dcf-6bd4032aec33",
   "metadata": {},
   "source": [
    ":::{admonition} `pass` 명령문  \n",
    ":class: info    \n",
    "`if` 조건이 참일 때 실행할 코드를 작성하지 않으면 오류가 발생한다. \n",
    "\n",
    "```python\n",
    ">>> if x < 0 :\n",
    "  File \"/tmp/ipykernel_1694/3387527309.py\", line 1\n",
    "    if x < 0 :\n",
    "              ^\n",
    "SyntaxError: unexpected EOF while parsing\n",
    "```\n",
    "\n",
    "`pass` 는 아무 것도 하지 않고 지나가도록 하는 명령문으로, `x`가 0보다 작을 때 할 일을 다음에 지정하고자 할 때 사용할 수 있다.  \n",
    "\n",
    "```python\n",
    ">>> if x < 0 :\n",
    "        pass\n",
    "```\n",
    ":::\n"
   ]
  },
  {
   "cell_type": "markdown",
   "id": "bdffea14-a4d8-48d2-884f-c9e755b51c94",
   "metadata": {},
   "source": [
    "````{prf:example}\n",
    ":label: cond_ex01  \n",
    "\n",
    "변수 `score`에 임의의 정수를 할당한 다음 `score`가 80이상이면 `합격입니다.`를 출력하는 코드를 작성하라. \n",
    "\n",
    "```python\n",
    ">>> score = 95\n",
    ">>> if score >= 80 :\n",
    "        print('합격입니다.')\n",
    "합격입니다.\n",
    "```\n",
    "\n",
    "````"
   ]
  },
  {
   "cell_type": "markdown",
   "id": "3536ed20-d543-4d03-abbd-1049a2e266c0",
   "metadata": {},
   "source": [
    "````{prf:example}\n",
    ":label: cond_ex02  \n",
    "\n",
    "변수 `n`에 임의의 정수를 할당한 다음 `n`이 홀수면 `n`의 제곱을 출력하는 코드를 작성하라. \n",
    "\n",
    "```python\n",
    ">>> n = 7\n",
    ">>> if n % 2 == 1 :\n",
    "        print(n,'의 제곱 :', n ** 2)\n",
    "7 의 제곱 : 49\n",
    "```\n",
    "\n",
    "\n",
    "정수 `1`은 `True`로 간주되기에 아래와 같이 코드를 작성할 수도 있다.  \n",
    " \n",
    "```python\n",
    ">>> n = 7\n",
    ">>> if n % 2 :\n",
    "        print(n,'의 제곱 :', n ** 2)\n",
    "7 의 제곱 : 49\n",
    "```\n",
    "\n",
    "`n`의 제곱을 계산한 다음 그 결과를 출력할 수도 있다. `if` 조건이 참일 때 실행할 여러 줄의 코드는 들여쓰기 깊이가 같아야 한다.  \n",
    "\n",
    "```python\n",
    ">>> n = 7\n",
    ">>> if n % 2 == 1 :\n",
    "        result = n ** 2\n",
    "        print(n,'의 제곱 :', result)\n",
    "7 의 제곱 : 49\n",
    "```\n",
    "````"
   ]
  },
  {
   "cell_type": "markdown",
   "id": "f0d6e5a2-1be6-4128-96b1-5f53bfa0941a",
   "metadata": {},
   "source": [
    ":::{admonition} 코드 블록<font size=\"2\">code block</font>    \n",
    ":class: info    \n",
    "프로그래밍에서 코드 블록은 특정한 일을 수행하는 한 단위의 코드 묶음을 말한다. 많은 프로그래밍 언어에서 중괄호(`{}`)로 묶여 있는 경우가 많으나 파이썬에서는 들여쓰기로 코드 블록을 지정한다. \n",
    ":::\n"
   ]
  },
  {
   "cell_type": "markdown",
   "id": "66b64456-54cc-494e-ab15-5ebb8fab0477",
   "metadata": {},
   "source": [
    "````{prf:example}\n",
    ":label: cond_ex03  \n",
    "\n",
    "변수 `x`에 임의의 정수를 할당한 다음 `x`가 0보다 작으면 `x는 음수`, 크거나 같으면 `x는 음수 아님`를 출력하는 코드를 작성하라. \n",
    "\n",
    "```python\n",
    ">>> x = -10\n",
    ">>> if x < 0 :\n",
    "        print('x는 음수')\n",
    "x는 음수\n",
    ">>> if x >= 0 :\n",
    "        print('x는 음수 아님')\n",
    "```\n",
    "```python\n",
    ">>> x = 10\n",
    ">>> if x < 0 :\n",
    "        print('x는 음수')\n",
    ">>> if x >= 0 :\n",
    "        print('x는 음수 아님')\n",
    "x는 음수 아님\n",
    "```\n",
    "`x`는 `x < 0`와 `x >= 0`을 동시에 만족할 수 없지만 `if`문을 두 번 사용했기 때문에 파이썬은 각 조건을 모두 확인한다. \n",
    "````"
   ]
  },
  {
   "cell_type": "markdown",
   "id": "c083e847-da3c-4974-8427-6413a411eca2",
   "metadata": {},
   "source": [
    "## `if-else` 조건문"
   ]
  },
  {
   "cell_type": "markdown",
   "id": "dd19bdfe-ee3b-47c0-ba49-7342773a0011",
   "metadata": {},
   "source": [
    "`if-else` 조건문은 조건이 참이면 `코드1`을 실행하고, 거짓이면 `코드2`를 실행한다. "
   ]
  },
  {
   "cell_type": "markdown",
   "id": "e9407eb4-7a5e-4a72-b920-28ecc15d81c1",
   "metadata": {},
   "source": [
    "```python\n",
    "if 조건 :\n",
    "    코드1\n",
    "else :\n",
    "    코드2\n",
    "```\n",
    "파이썬은 들여쓰기에 민감한 언어다. `if`와 `else`의 들여쓰기 깊이가 같아야 하고, `코드1`과 `코드2`도 들여쓰기 깊이가 같아야 한다. "
   ]
  },
  {
   "cell_type": "markdown",
   "id": "3ef0b855-1d6a-406c-b84a-1cd2deeb9e2a",
   "metadata": {},
   "source": [
    "예를 들어, `x`가 0보다 작으면 `x는 음수`를 출력하고 크거나 같으면 `x는 음수 아님`를 출력하는 코드를 작성해보자. \n",
    "\n",
    "```python\n",
    "if x < 0 :\n",
    "    print('x는 음수')\n",
    "else :\n",
    "    print('x는 음수 아님')\n",
    "```\n",
    "\n",
    "위 조건문은 조건을 한 번만 확인하기 때문에 {prf:ref}`cond_ex03`에서 `if`문을 두 번 사용한 코드보다 효율적으로 동작한다.    "
   ]
  },
  {
   "cell_type": "markdown",
   "id": "0e758559-0231-4f28-a34a-0ab444788e1f",
   "metadata": {},
   "source": [
    "````{prf:example}\n",
    ":label: cond_ex04  \n",
    "\n",
    "변수 `a`에 임의의 정수를 할당한 다음 `a`의 절댓값을 출력하는 코드를 작성하라.  \n",
    "\n",
    "```python\n",
    ">>> a = -5\n",
    ">>> if a >= 0 :\n",
    "        print(a)\n",
    "    else :\n",
    "        print(-a)\n",
    "5\n",
    "```\n",
    "\n",
    "````\n"
   ]
  },
  {
   "cell_type": "markdown",
   "id": "c3209630-9e65-4e8b-a32d-7ca20316f609",
   "metadata": {},
   "source": [
    "## 조건부 표현식"
   ]
  },
  {
   "cell_type": "markdown",
   "id": "d36e7f4e-abb0-4b51-933d-dc88a49bddf9",
   "metadata": {},
   "source": [
    "조건부 표현식<font size=\"2\">conditional expression</font>은 `if-else` 조건문을 한 줄로 표현하는 방법으로 형식은 다음과 같다.  \n",
    "\n",
    "```python\n",
    "표현식1 if 조건 else 표현식2\n",
    "```"
   ]
  },
  {
   "cell_type": "markdown",
   "id": "a88ce72d-2f01-49e2-8188-6a51bc1b4591",
   "metadata": {},
   "source": [
    "예를 들어, 변수 `a`에 임의의 정수를 할당한 다음 `a`의 절댓값을 출력하는 코드를 조건부 표현식으로 작성해보자. "
   ]
  },
  {
   "cell_type": "code",
   "execution_count": 18,
   "id": "f5da660f-7997-4975-b77d-c9b588e3eed0",
   "metadata": {},
   "outputs": [
    {
     "name": "stdout",
     "output_type": "stream",
     "text": [
      "5\n"
     ]
    }
   ],
   "source": [
    "a = -5\n",
    "print(a) if a >= 0 else print(-a)"
   ]
  },
  {
   "cell_type": "code",
   "execution_count": 19,
   "id": "d5bd7a66-0a44-40fe-bd58-e9c91f292d0d",
   "metadata": {},
   "outputs": [
    {
     "name": "stdout",
     "output_type": "stream",
     "text": [
      "3\n"
     ]
    }
   ],
   "source": [
    "a = 3\n",
    "print(a) if a >= 0 else print(-a)"
   ]
  },
  {
   "cell_type": "markdown",
   "id": "009b8b1f-101d-4656-80dc-d06a273910f1",
   "metadata": {},
   "source": [
    "## 중첩 조건문"
   ]
  },
  {
   "cell_type": "markdown",
   "id": "f720fd35-a373-49bc-abe9-1120b2a7d06d",
   "metadata": {},
   "source": [
    "`if-else` 조건문을 중첩해서 사용하면 원하는 대로 경우를 나눠서 처리할 수 있다. 예를 들어, `x`가 `y`보다 큰지 작은지 같은지를 출력하는 코드를 다음과 같이 작성할 수 있다. \n",
    "\n",
    "```python\n",
    "if x < y :\n",
    "    print('x가 y보다 작다')\n",
    "else :\n",
    "    if x > y :\n",
    "        print('x가 y보다 크다')\n",
    "    else :\n",
    "        print('x와 y가 같다')\n",
    "```\n",
    "\n",
    "위의 중첩 조건문은 바깥 쪽에 위치한 조건`x < y`을 확인한 다음 조건이 거짓일 경우 `else` 아래있는 조건`x > y`를 확인한다. "
   ]
  },
  {
   "cell_type": "markdown",
   "id": "876d4fb0-1614-42ff-81f4-f32e29e9ed12",
   "metadata": {},
   "source": [
    "중첩 조건문을 많이 사용하면 코드가 복잡해질 수 있기 때문에 가능하면 사용하지 않는 것이 좋다. 예를 들어, 아래 코드는 중첩 조건문을 사용해 `x`가 0보다 크면서 동시에 10보다 작은 경우를 다룬다.  \n",
    "\n",
    "```python\n",
    "if x > 0 :\n",
    "    if x < 10 :\n",
    "        print('x는 0보다 크고 10보다 작다')\n",
    "```\n",
    "\n",
    "하지만 `print()` 함수가 `x > 0`와 `x < 10`을 모두 만족하는 경우에만 실행되기에 아래와 같이 `and` 연산자를 이용하면 중첩 조건문을 사용하지 않아도 된다. \n",
    "```python\n",
    "if x > 0 and x < 10 :\n",
    "    print('x는 0보다 크고 10보다 작다')\n",
    "```\n",
    "\n",
    "참고로 `x > 0 and x < 10`을 `0 < x < 10`로 표현할 수 있다. \n",
    "```python\n",
    "if 0 < x < 10 :\n",
    "    print('x는 0보다 크고 10보다 작다')\n",
    "```"
   ]
  },
  {
   "cell_type": "markdown",
   "id": "b04a9786-7c7b-4637-85ec-246c18d029f9",
   "metadata": {},
   "source": [
    "## 다중 조건문"
   ]
  },
  {
   "cell_type": "markdown",
   "id": "9226e085-b9e4-47ef-8b46-77be0745442a",
   "metadata": {},
   "source": [
    "다중 조건문을 사용하면 중첩 조건문보다 가독성 높게 세 개 이상의 경우를 다룰 수 있다.   \n",
    "\n",
    "```python\n",
    "if 조건1 :\n",
    "    코드1\n",
    "elif 조건2 :\n",
    "    코드2\n",
    "else :\n",
    "    코드3\n",
    "```\n",
    "`elif`는 'else if'의 줄임말로 원하는 만큼 사용할 수 있고, `else` 문은 마지막에 한 번 사용하거나 생략할 수 있다. `if-elif-else`문은 위에 위치한 조건의 참거짓부터 차례대로 조사하며, 한 곳에서 만족되면 나머지 부분은 무시한다."
   ]
  },
  {
   "cell_type": "markdown",
   "id": "2f9d7aa6-3d76-4ced-b8bc-d42796e95b6a",
   "metadata": {},
   "source": [
    "예를 들어, `x`가 `y`보다 큰지 작은지 같은지를 출력하는 코드를 다중 조건문으로 작성해보자.   \n",
    "   \n",
    "```python  \n",
    "if x < y :\n",
    "    print('x가 y보다 작다')\n",
    "elif x > y :\n",
    "    print('x가 y보다 크다')\n",
    "else :\n",
    "    print('x와 y가 같다')\n",
    "```"
   ]
  },
  {
   "cell_type": "markdown",
   "id": "30f00750-ed65-4719-beb8-9bdde6179b03",
   "metadata": {},
   "source": [
    "위 조건문이 실행되는 순간 `x`가 가리키는 값이 `y`가 가리키는 값보다 작으면 `x가 y보다 작다`를 출력하며 나머지 부분은 무시하고, `x`가 `y`보다 크면 `x가 y보다 크다`를 출력하고 나머지 부분은 무시한다. 두 조건을 모두 만족하지 않으면 `else` 아래 코드가 실행된다.    "
   ]
  },
  {
   "cell_type": "code",
   "execution_count": 20,
   "id": "0bcf7623-30d7-4295-94dd-ddeb581d14ce",
   "metadata": {},
   "outputs": [
    {
     "name": "stdout",
     "output_type": "stream",
     "text": [
      "x가 y보다 작다\n"
     ]
    }
   ],
   "source": [
    "x = 3\n",
    "y = 5\n",
    "\n",
    "if x < y :\n",
    "    print('x가 y보다 작다')\n",
    "elif x > y :\n",
    "    print('x가 y보다 크다')\n",
    "else :\n",
    "    print('x와 y가 같다')"
   ]
  },
  {
   "cell_type": "code",
   "execution_count": 21,
   "id": "cf487a52-ae9e-4d0a-84fb-d8368415bc49",
   "metadata": {},
   "outputs": [
    {
     "name": "stdout",
     "output_type": "stream",
     "text": [
      "x가 y보다 크다\n"
     ]
    }
   ],
   "source": [
    "x = 7\n",
    "y = 5\n",
    "\n",
    "if x < y :\n",
    "    print('x가 y보다 작다')\n",
    "elif x > y :\n",
    "    print('x가 y보다 크다')\n",
    "else :\n",
    "    print('x와 y가 같다')"
   ]
  },
  {
   "cell_type": "code",
   "execution_count": 22,
   "id": "988ae6ea-7b9e-4c55-b4ae-ae0397b9e7c6",
   "metadata": {},
   "outputs": [
    {
     "name": "stdout",
     "output_type": "stream",
     "text": [
      "x와 y가 같다\n"
     ]
    }
   ],
   "source": [
    "x = 7\n",
    "y = 7\n",
    "\n",
    "if x < y :\n",
    "    print('x가 y보다 작다')\n",
    "elif x > y :\n",
    "    print('x가 y보다 크다')\n",
    "else :\n",
    "    print('x와 y가 같다')"
   ]
  },
  {
   "cell_type": "markdown",
   "id": "d608ff23-5408-4e22-b07e-6abac41da3d3",
   "metadata": {},
   "source": [
    "````{prf:example}\n",
    ":label: cond_ex05 \n",
    "\n",
    "변수 `score`에 임의의 정수를 할당한 다음 `score`가 90이상이면 `A`, 80이상 90미만이면 `B`, 70이상 80미만이면 `C`, 60이상 70미만이면 `D`, 60미만은 `F`를 출력하는 코드를 작성하라. \n",
    "\n",
    "```python\n",
    "if score >= 90 :\n",
    "    print('A')\n",
    "elif 80 <= score < 90 :\n",
    "    print('B')\n",
    "elif 70 <= score < 80 :\n",
    "    print('C')\n",
    "elif 60 <= score < 70 :\n",
    "    print('D')\n",
    "else:\n",
    "    print('F')\n",
    "```\n",
    "\n",
    "그런데 `score`가 90미만일 때만 그 다음 `elif` 조건을 확인하기 때문에 조건에 `< 90`은 생략할 수 있다.   \n",
    "\n",
    "```python\n",
    "if score >= 90 :\n",
    "    print('A')\n",
    "elif score >= 80 :\n",
    "    print('B')\n",
    "elif score >= 70 :\n",
    "    print('C')\n",
    "elif score >= 60 :\n",
    "    print('D')\n",
    "else :\n",
    "    print('F')\n",
    "```\n",
    "\n",
    "`if-elif-else`문에서 `else`를 사용하지 않을 수도 있다.  \n",
    "\n",
    "```python\n",
    "if score >= 90 :\n",
    "    print('A')\n",
    "elif score >= 80 :\n",
    "    print('B')\n",
    "elif score >= 70 :\n",
    "    print('C')\n",
    "elif score >= 60 :\n",
    "    print('D')\n",
    "elif score < 60 :\n",
    "    print('F')\n",
    "```\n",
    "\n",
    "````\n"
   ]
  },
  {
   "cell_type": "markdown",
   "id": "dce4a111-26d8-4e5d-b483-43c26d48d21f",
   "metadata": {},
   "source": [
    "## 요약"
   ]
  },
  {
   "cell_type": "markdown",
   "id": "d4940d2b-59db-4747-933c-0747c8711e03",
   "metadata": {},
   "source": [
    "조건문은 특정 조건의 성립여부에 따라 다른 일을 하게 만드는 명령문이다.   \n",
    "\n",
    "* 특정 `조건`이 참일 때만 그 아래 들여쓰기된 `코드`가 실행된다.  \n",
    "```python\n",
    "if 조건 :\n",
    "    코드\n",
    "```\n",
    "\n",
    "* `elif`는 원하는 만큼 사용할 수 있고 `else`는 마지막에 한 번 사용하거나 생략한다.  \n",
    "```python\n",
    "if score >= 90 :\n",
    "    grade = 'A'\n",
    "elif score >= 80 :\n",
    "    grade = 'B'\n",
    "else :\n",
    "    grade = 'C'\n",
    "```\n",
    "\n",
    "* 위에 위치한 조건의 참거짓부터 조사하며 처음으로 참인 조건 아래 코드가 실행되고 나머지는 무시된다.  "
   ]
  },
  {
   "cell_type": "markdown",
   "id": "e27cbaef-f21f-48b4-863c-30b8c340cdcc",
   "metadata": {},
   "source": [
    "## 연습 문제 "
   ]
  },
  {
   "cell_type": "markdown",
   "id": "a836eaef-1902-4ffe-ab3c-323390ac8184",
   "metadata": {},
   "source": [
    "### 문제 \n",
    "주어진 정수 `num1`이 홀수인 경우에만 그 값에 1을 더한 값을 출력하라. "
   ]
  },
  {
   "cell_type": "markdown",
   "id": "7c335fbc-0813-4286-bd4c-c5c3e09c6255",
   "metadata": {},
   "source": [
    "### 문제  \n",
    "주어진 정수 `num2`가 5보다 큰 경우에만 `num2`를 3으로 나눴을 때의 나머지를 출력하라. "
   ]
  },
  {
   "cell_type": "markdown",
   "id": "1447c65c-06e6-4710-868a-3317241497c5",
   "metadata": {},
   "source": [
    "### 문제  \n",
    "주어진 정수 `num3`의 값에 따라 `양수입니다.`, `음수입니다.`, `0입니다.`를 출력하는 코드를 작성하라. "
   ]
  },
  {
   "cell_type": "markdown",
   "id": "ef318871-0e21-4b3c-9ba4-43b0a181b3f6",
   "metadata": {},
   "source": [
    "### 문제 \n",
    "1종 운전면허를 취득하기 위해서는 학과시험에서 70점이상을 받아야 한다. 학과시험 점수가 주어졌을 때, 합격여부를 알려주는 코드를 작성하라. "
   ]
  },
  {
   "cell_type": "markdown",
   "id": "6497189f-431a-40bc-b269-7591af2c6008",
   "metadata": {},
   "source": [
    "### 문제  \n",
    "윤년은 윤달이나 윤일이 든 해로 달력의 계절과 실제 계절의 차이를 조절하기 위해 사용한다. 윤년 규칙은 다음과 같다.   \n",
    "* 4로 나누어 떨어지는 해는 윤년이다.  \n",
    "* 4와 100으로 나누어 떨어지는 해는 평년이다.  \n",
    "* 4와 100 그리고 400으로 나누어 떨어지는 해는 윤년이다.  \n",
    "\n",
    "연도가 주어졌을 때, 윤년인지 아닌지를 출력하는 코드를 작성하라. "
   ]
  },
  {
   "cell_type": "markdown",
   "id": "5e32913f-7592-4755-a558-3c5aa7c596d7",
   "metadata": {},
   "source": [
    "### 문제  \n",
    "다음 코드의 결과값이 무엇인지 말하고, 코드를 실행시켜 확인하라.  \n",
    "\n",
    "```python\n",
    "name = '강현'\n",
    "\n",
    "if name == '강현' :\n",
    "    print('안녕하세요', name, '님')\n",
    "else :\n",
    "    new_name = input('이름을 등록하세요 : ')\n",
    "    print('안녕하세요', new_name, '님')\n",
    "\n",
    "print('로그인되었습니다.')\n",
    "```"
   ]
  },
  {
   "cell_type": "markdown",
   "id": "dbbd0d86-0369-4ad6-bdff-45510b785351",
   "metadata": {},
   "source": [
    "### 문제  \n",
    "다음 코드의 결과값이 무엇인지 말하고, 코드를 실행시켜 확인하라.  \n",
    "\n",
    "```python\n",
    "fruit = \"banana apple orange pineapple mango strawberry cherry\"\n",
    "\n",
    "if \"tomato\" in fruit :\n",
    "    print(\"A\")\n",
    "elif \"abcd\" not in fruit:\n",
    "    print(\"B\")\n",
    "elif \"app\" in fruit :\n",
    "    print(\"C\")\n",
    "else :\n",
    "    print(\"D\") \n",
    "```"
   ]
  },
  {
   "cell_type": "markdown",
   "id": "3b26b037-e5ba-4e2c-a704-8b766b776e50",
   "metadata": {},
   "source": [
    "### 문제 \n",
    "다음 코드에서 오류가 발생하는 이유를 모두 말하고, 이를 수정하라.  \n",
    "\n",
    "```python \n",
    "i = 10\n",
    "if i = 5 :\n",
    "print('i는 5이다.')  \n",
    "```"
   ]
  },
  {
   "cell_type": "markdown",
   "id": "1a3afc92-aad0-4da3-a393-fa94a10db22b",
   "metadata": {},
   "source": [
    "### 문제  \n",
    "다음 코드에서 오류가 발생하는 이유를 모두 말하고, 이를 수정하라. \n",
    "\n",
    "```python\n",
    "if 3 == 3.0\n",
    "print('3과 3.0은 같다.')\n",
    "```"
   ]
  },
  {
   "cell_type": "markdown",
   "id": "aa91cbeb-2f6e-42f1-a71b-a8ef3ac6fcb5",
   "metadata": {},
   "source": [
    "### 문제 \n",
    "다음 코드에서 오류가 발생하는 이유를 모두 말하고, 이를 수정하라.  \n",
    "\n",
    "```python\n",
    "a = 3\n",
    "b = -1\n",
    "\n",
    "if a > 0 and b < 0 :\n",
    "    print('a는 양수다.')\n",
    "      print('b는 음수다')\n",
    "      print('a > b 이다.')\n",
    "```"
   ]
  },
  {
   "cell_type": "markdown",
   "id": "838d33e3-78c2-49fd-9ffe-9447aaba07d3",
   "metadata": {},
   "source": [
    "### 문제  \n",
    "주어진 문자열 `weather`에 `비`가 포함되어 있다면\n",
    "> 오늘 비가 내립니다.  \n",
    "> 우산을 챙기세요! \n",
    "\n",
    "를 출력하고 그렇지 않다면   \n",
    "> 비 소식은 없습니다.  \n",
    "\n",
    "를 출력하는 코드를 작성하라. "
   ]
  },
  {
   "cell_type": "markdown",
   "id": "73d78001-b0fd-4a0e-aed5-043bd6cedf0b",
   "metadata": {},
   "source": [
    "### 문제  \n",
    "\n",
    "`input()` 함수로 입력 받은 정수가 짝수인지 홀수인지를 출력하는 코드를 작성하라. \n"
   ]
  },
  {
   "cell_type": "markdown",
   "id": "40b772bb-b537-46f9-b8ea-c2fef01945ed",
   "metadata": {},
   "source": [
    "### 문제  \n",
    "`input()` 함수로 두 정수를 입력 받아 작은 수를 출력하는 코드를 작성하라. "
   ]
  },
  {
   "cell_type": "markdown",
   "id": "59530893-e2e6-48ac-98c8-ffb40d430926",
   "metadata": {},
   "source": [
    "### 문제  \n",
    "`input()` 함수로 세 정수를 입력 받아 가장 큰 수를 출력하는 코드를 작성하라. "
   ]
  },
  {
   "cell_type": "markdown",
   "id": "b4d9ce78-341b-490b-b669-d80d51c03e85",
   "metadata": {},
   "source": [
    "### 문제 \n",
    "`input()` 함수로 세 정수를 입력 받아 처음 두 정수를 더한 값이 세 번째로 입력한 정수라면 `정답입니다`를, 아니면 `오답입니다`를 출력하는 코드를 작성하라. "
   ]
  },
  {
   "cell_type": "markdown",
   "id": "daee9692-eb1c-46af-bbe7-5838cecc5671",
   "metadata": {},
   "source": [
    "### 문제  \n",
    "`input()` 함수로 입력 받은 정수가 주어진 정수 `answer`와 같으면 `정답입니다`를, 크면 `너무 커요` 작으면 `너무 작아요`를 출력하는 코드를 작성하라. "
   ]
  },
  {
   "cell_type": "markdown",
   "id": "2a68f7ae-3b01-40a5-ac5a-262c0a9d1372",
   "metadata": {},
   "source": [
    "### 문제   \n",
    "`input()` 함수로 두 분수 A, B의 분자와 분모에 해당하는 정수를 입력 받아 어느 분수가 더 큰지를 출력하는 코드를 작성하라. "
   ]
  },
  {
   "cell_type": "markdown",
   "id": "97ba8044-131b-461e-bab0-4fed10e9b902",
   "metadata": {},
   "source": [
    "### 문제  \n",
    "`input()` 함수로 정수를 입력 받아 100보다 작거나 같으면 입력 받은 수를, 100보다 크면 100을 출력하는 코드를 작성하라. "
   ]
  },
  {
   "cell_type": "markdown",
   "id": "18eb7bba-f2bb-4866-9702-94b5ccab023e",
   "metadata": {},
   "source": [
    "### 문제  \n",
    "골프는 낮은 점수가 이기고, 테니스는 높은 점수가 이기는 게임이다. 강현이와 나현이는 골프 또는 테니스 게임을 했다. 두 사람의 점수와 종목을 입력 받아 누가 이겼는지를 출력하는 코드를 작성하라.   "
   ]
  },
  {
   "cell_type": "markdown",
   "id": "011134a2-bcc7-49b4-a8f6-742eda33da21",
   "metadata": {},
   "source": [
    "### 문제  \n",
    "택배의 가격은 무게에 따라 달라진다. 아래는 한 택배 회사의 요금표이다.  \n",
    "\n",
    "|무게(kg)|가격(원)|\n",
    "|:--:|:--:|\n",
    "| 5미만| 5,000|\n",
    "| 5이상 ~ 10미만 | 8,000 |\n",
    "| 10이상 | 10,000 |  \n",
    "\n",
    "우편물의 무게가 주어졌을 때, 택배 가격을 알려주는 프로그램을 만들어라.  "
   ]
  },
  {
   "cell_type": "markdown",
   "id": "8ce9f9e2-4d1e-4953-afeb-6498c59f1072",
   "metadata": {},
   "source": [
    "### 문제  \n",
    "미세먼지 농도별 예보 등급은 아래와 같다.   \n",
    "\n",
    "|미세먼지 농도($\\mu g / m^3$)|예보 등급|\n",
    "|:-----------:|:-------:|\n",
    "|0 ~ 30|좋음|\n",
    "|31 ~ 80|보통|\n",
    "|81 ~ 150|나쁨|\n",
    "|151 ~ |매우나쁨|\n",
    "\n",
    "`input()` 함수로 현재 미세먼지 농도를 입력 받아 예보 등급을 알려주는 코드를 작성하라. \n"
   ]
  },
  {
   "cell_type": "markdown",
   "id": "5119ee28-ff5c-47d0-9479-141ce392fc40",
   "metadata": {},
   "source": [
    "### 문제  \n",
    "체질량지수<font size=\"2\">Body Mass Index</font>(BMI)는 체중(kg)을 키(m)의 제곱으로 나눈 값으로 비만도 판정에 사용한다. \n",
    "\n",
    "$$BMI = \\frac{몸무게}{키^2}$$  \n",
    "\n",
    "BMI에 따른 체중 분류는 아래와 같다. \n",
    "\n",
    "|BMI|체중 분류|\n",
    "|:--:|:----:|\n",
    "|18.5미만|저체중|\n",
    "|18.5이상 23미만|정상|\n",
    "|23이상 25미만|과체중|\n",
    "|25이상 30미만|비만|\n",
    "|30이상|고도비만|\n",
    "\n",
    "키와 몸무게가 주어졌을 때, BMI와 체중 분류를 출력하는 코드를 작성하라."
   ]
  },
  {
   "cell_type": "markdown",
   "id": "08c220e7-ab66-46f0-9857-745a93b46530",
   "metadata": {},
   "source": [
    "### 문제  \n",
    "\n",
    "A대학의 일반차량에 대한 주차요금은 아래와 같다.  \n",
    "\n",
    "* 2,000원/최초 30분, 초과 10분마다 500원, 1일(24시간) 최대요금은 40,000원  \n",
    "\n",
    "주차시간을 입력 받아 주차요금을 출력하는 코드를 작성하라. "
   ]
  },
  {
   "cell_type": "markdown",
   "id": "481783c2-3b27-4679-b7c3-3ecd3b9146ee",
   "metadata": {},
   "source": [
    "## [미니 프로젝트] 죄수의 딜레마"
   ]
  },
  {
   "cell_type": "markdown",
   "id": "1233415c-d73c-4d95-8a95-ec729b1aeeb5",
   "metadata": {},
   "source": [
    "죄수의 딜레마<font size=\"2\">Prisoner's Dilemma</font>은 수학자 존 내시<font size=\"2\">John Nash</font>가 고안한 게임으로 상황은 다음과 같다.   \n",
    "\n",
    "사건 용의자A, B가 체포되어 서로 다른 취조실에서 심문을 받는데 이들은 자백여부에 따라 다르게 처벌받는다.   \n",
    "\n",
    "* 둘 중 하나만 죄를 자백하면 자백한 자는 즉시 석방되고 나머지는 10년을 복역한다.   \n",
    "* 둘 다 자백하면 모두 6개월을 복역한다. \n",
    "* 둘 다 침묵하면 모두 5년을 복역한다. \n",
    "\n",
    "||용의자B의 침묵|용의자B의 자백|\n",
    "|:--:|:-----:|:---------:|\n",
    "|용의자A의 침묵|모두 6개월|A는 10년, B는 석방|\n",
    "|용의자A의 자백|A는 석방, B는 10년|모두 5년|\n",
    "\n",
    "용의자A가 되어 몇 년형을 받을지 확인하는 코드를 작성하라.   "
   ]
  },
  {
   "cell_type": "markdown",
   "id": "2d2dea67-7728-438b-adff-c0b26855bc11",
   "metadata": {},
   "source": [
    ":::{admonition} 도움말  \n",
    ":class: info  \n",
    "\n",
    "* 자백은 `1`, 침묵은 `0`으로 둔다.    \n",
    "* 용의자A의 선택은 `input()` 함수로 받는다.  \n",
    "* 용의자B의 선택은 `0`과 `1` 중 하나를 임의로 둔다. 아래 `random.randint(0, 1)`은 실행할 때마다 `0`과 `1` 중 하나를 임의로 반환한다.  \n",
    "```python\n",
    "import random\n",
    "print(random.randint(0, 1))\n",
    "```\n",
    ":::\n"
   ]
  },
  {
   "cell_type": "markdown",
   "id": "f55cc54b-6ff8-44f1-85eb-c4660a5b3b78",
   "metadata": {},
   "source": [
    "## [토이 프로젝트] 가위바위보 게임"
   ]
  },
  {
   "cell_type": "markdown",
   "id": "6105302b-7e88-483f-9352-7fcfbec9650f",
   "metadata": {},
   "source": [
    "컴퓨터와 가위바위보 게임을 한 다음 누가 이겼는지 출력하는 코드를 작성하라.  "
   ]
  },
  {
   "cell_type": "markdown",
   "id": "abce515a-edab-4ec4-9c82-ee14e347b59c",
   "metadata": {},
   "source": [
    ":::{admonition} 도움말  \n",
    ":class: info    \n",
    "\n",
    "* 가위는 `0`, 바위는 `1`, 보는 `2`로 둔다.  \n",
    "* 컴퓨터가 내는 값은 `0`, `1`, `2` 중 하나를 임의로 둔다. 아래 `random.randint(0, 2)`는 실행할 때마다 `0`, `1`, `2` 중 하나를 임의로 반환한다.  \n",
    "```python\n",
    "import random\n",
    "print(random.randint(0, 2))\n",
    "```\n",
    "* 가위(`0`)는 보(`2`)를, 보(`2`)는 바위(`1`)를, 바위(`1`)는 가위(`0`)를 이긴다. 내가 낸 값에 2를 더한 다음 3으로 나눈 나머지가 상대가 낸 값과 같다면 게임에서 이긴다.   \n",
    ":::\n"
   ]
  }
 ],
 "metadata": {
  "kernelspec": {
   "display_name": "Python 3 (ipykernel)",
   "language": "python",
   "name": "python3"
  },
  "language_info": {
   "codemirror_mode": {
    "name": "ipython",
    "version": 3
   },
   "file_extension": ".py",
   "mimetype": "text/x-python",
   "name": "python",
   "nbconvert_exporter": "python",
   "pygments_lexer": "ipython3",
   "version": "3.8.10"
  }
 },
 "nbformat": 4,
 "nbformat_minor": 5
}
